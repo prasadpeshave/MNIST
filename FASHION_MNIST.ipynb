{
  "nbformat": 4,
  "nbformat_minor": 0,
  "metadata": {
    "accelerator": "GPU",
    "colab": {
      "name": "FASHION_MNIST.ipynb",
      "provenance": [],
      "collapsed_sections": []
    },
    "kernelspec": {
      "display_name": "Python 3",
      "language": "python",
      "name": "python3"
    },
    "language_info": {
      "codemirror_mode": {
        "name": "ipython",
        "version": 3
      },
      "file_extension": ".py",
      "mimetype": "text/x-python",
      "name": "python",
      "nbconvert_exporter": "python",
      "pygments_lexer": "ipython3",
      "version": "3.8.3"
    }
  },
  "cells": [
    {
      "cell_type": "markdown",
      "metadata": {
        "id": "jk7TTp_yAxwL"
      },
      "source": [
        "# **CONFIGURATIONS**"
      ]
    },
    {
      "cell_type": "code",
      "metadata": {
        "id": "bQVMyv65BKfA"
      },
      "source": [
        "!pip install keras-tuner\n",
        "!pip install tensorflow-gpu==2.3.1"
      ],
      "execution_count": null,
      "outputs": []
    },
    {
      "cell_type": "code",
      "metadata": {
        "colab": {
          "base_uri": "https://localhost:8080/"
        },
        "id": "yKFjWz6e5eiH",
        "outputId": "2b5c55b8-c3a7-47b4-ea2c-ef2688001968"
      },
      "source": [
        "%matplotlib inline\n",
        "\n",
        "import numpy as np\n",
        "import matplotlib.pyplot as plt\n",
        "import tensorflow as tf\n",
        "import kerastuner\n",
        "    \n",
        "print('Using TensorFlow version', tf.__version__)"
      ],
      "execution_count": null,
      "outputs": [
        {
          "output_type": "stream",
          "text": [
            "Using TensorFlow version 2.3.1\n"
          ],
          "name": "stdout"
        },
        {
          "output_type": "stream",
          "text": [
            "/usr/local/lib/python3.7/dist-packages/ipykernel_launcher.py:6: DeprecationWarning: `import kerastuner` is deprecated, please use `import keras_tuner`.\n",
            "  \n"
          ],
          "name": "stderr"
        }
      ]
    },
    {
      "cell_type": "markdown",
      "metadata": {
        "id": "3G7wXdhcA3q8"
      },
      "source": [
        "# **DATA LOADING**"
      ]
    },
    {
      "cell_type": "code",
      "metadata": {
        "id": "1_dZutK1BKfC"
      },
      "source": [
        "(x_train, y_train), (x_test, y_test) = tf.keras.datasets.fashion_mnist.load_data()"
      ],
      "execution_count": null,
      "outputs": []
    },
    {
      "cell_type": "code",
      "metadata": {
        "colab": {
          "base_uri": "https://localhost:8080/",
          "height": 279
        },
        "id": "dcp3q6SWBKfD",
        "outputId": "dc49ae6c-7519-4e2a-bc66-c8a07b707aff"
      },
      "source": [
        "plt.imshow(x_train[0], cmap='binary')\n",
        "plt.xlabel(y_train[0])\n",
        "plt.show()"
      ],
      "execution_count": null,
      "outputs": [
        {
          "output_type": "display_data",
          "data": {
            "image/png": "[encoded data removed]",
            "text/plain": [
              "<Figure size 432x288 with 1 Axes>"
            ]
          },
          "metadata": {
            "tags": [],
            "needs_background": "light"
          }
        }
      ]
    },
    {
      "cell_type": "code",
      "metadata": {
        "colab": {
          "base_uri": "https://localhost:8080/"
        },
        "id": "kTgb7y92BKfD",
        "outputId": "0d3ceddf-429e-4f21-a906-828ac2d39bca"
      },
      "source": [
        "x_train.shape"
      ],
      "execution_count": null,
      "outputs": [
        {
          "output_type": "execute_result",
          "data": {
            "text/plain": [
              "(60000, 28, 28)"
            ]
          },
          "metadata": {
            "tags": []
          },
          "execution_count": 5
        }
      ]
    },
    {
      "cell_type": "markdown",
      "metadata": {
        "id": "nWfm7ubOA82U"
      },
      "source": [
        "# **MODEL CREATION**"
      ]
    },
    {
      "cell_type": "code",
      "metadata": {
        "id": "OpewXxPQ5eji"
      },
      "source": [
        "def create_model(hp):\n",
        "    if hp:\n",
        "        dropout_rate = hp.Float('dropout_rate', min_value=0.1, max_value=0.5)\n",
        "        num_units = hp.Choice('num_units', values=[8, 16, 32])\n",
        "        learning_rate = hp.Float('learning_rate', min_value=0.0001, max_value=0.1)\n",
        "        num_hidden_layers = hp.Choice('num_hidden_layers', values=[1, 2, 3])\n",
        "    else:\n",
        "        dropout_rate = 0.1\n",
        "        num_units = 8\n",
        "        learning_rate = 1e-4\n",
        "        num_hidden_layers = 1\n",
        "    \n",
        "    model = tf.keras.models.Sequential()\n",
        "    model.add(tf.keras.layers.Flatten(input_shape=(28, 28)))\n",
        "    model.add(tf.keras.layers.Lambda(lambda x: x/255.))\n",
        "    \n",
        "    for _ in range(0, num_hidden_layers):\n",
        "        model.add(tf.keras.layers.Dense(num_units, activation='relu'))\n",
        "        model.add(tf.keras.layers.Dropout(dropout_rate))\n",
        "    \n",
        "    model.add(tf.keras.layers.Dense(10, activation='softmax'))\n",
        "\n",
        "    model.compile(\n",
        "        loss='sparse_categorical_crossentropy',\n",
        "        optimizer=tf.keras.optimizers.Adam(learning_rate),\n",
        "        metrics=['accuracy']\n",
        "    )\n",
        "    \n",
        "    return model"
      ],
      "execution_count": null,
      "outputs": []
    },
    {
      "cell_type": "code",
      "metadata": {
        "colab": {
          "base_uri": "https://localhost:8080/"
        },
        "id": "Go8UCh4ABKfG",
        "outputId": "f64bad69-2b96-40d5-bce4-feeadd180bbc"
      },
      "source": [
        "create_model(None).summary()"
      ],
      "execution_count": null,
      "outputs": [
        {
          "output_type": "stream",
          "text": [
            "Model: \"sequential\"\n",
            "_________________________________________________________________\n",
            "Layer (type)                 Output Shape              Param #   \n",
            "=================================================================\n",
            "flatten (Flatten)            (None, 784)               0         \n",
            "_________________________________________________________________\n",
            "lambda (Lambda)              (None, 784)               0         \n",
            "_________________________________________________________________\n",
            "dense (Dense)                (None, 8)                 6280      \n",
            "_________________________________________________________________\n",
            "dropout (Dropout)            (None, 8)                 0         \n",
            "_________________________________________________________________\n",
            "dense_1 (Dense)              (None, 10)                90        \n",
            "=================================================================\n",
            "Total params: 6,370\n",
            "Trainable params: 6,370\n",
            "Non-trainable params: 0\n",
            "_________________________________________________________________\n"
          ],
          "name": "stdout"
        }
      ]
    },
    {
      "cell_type": "markdown",
      "metadata": {
        "id": "RlEJOTQYBRJ1"
      },
      "source": [
        "# **HYPERPARAMETER TUNING**"
      ]
    },
    {
      "cell_type": "code",
      "metadata": {
        "id": "sJM_XJ-yBKfG"
      },
      "source": [
        "class CustomTuner(kerastuner.tuners.BayesianOptimization):\n",
        "    def run_trial(self, trial, *args, **kwargs):\n",
        "        kwargs['batch_size'] = trial.hyperparameters.Int('batch_size', 32, 128, step=32)\n",
        "        super(CustomTuner, self).run_trial(trial, *args, **kwargs)"
      ],
      "execution_count": null,
      "outputs": []
    },
    {
      "cell_type": "code",
      "metadata": {
        "id": "OuRcFeYSBKfI"
      },
      "source": [
        "tuner = CustomTuner(\n",
        "    create_model,\n",
        "    objective='val_accuracy',\n",
        "    max_trials=20,\n",
        "    directory='logs',\n",
        "    project_name='fashion_mnist',\n",
        "    overwrite=True,\n",
        ")"
      ],
      "execution_count": null,
      "outputs": []
    },
    {
      "cell_type": "code",
      "metadata": {
        "colab": {
          "base_uri": "https://localhost:8080/"
        },
        "id": "LsChBzFgBKfI",
        "outputId": "479bf8b3-b443-463c-8923-4872b8dd6cb1"
      },
      "source": [
        "tuner.search_space_summary()"
      ],
      "execution_count": null,
      "outputs": [
        {
          "output_type": "stream",
          "text": [
            "Search space summary\n",
            "Default search space size: 4\n",
            "dropout_rate (Float)\n",
            "{'default': 0.1, 'conditions': [], 'min_value': 0.1, 'max_value': 0.5, 'step': None, 'sampling': None}\n",
            "num_units (Choice)\n",
            "{'default': 8, 'conditions': [], 'values': [8, 16, 32], 'ordered': True}\n",
            "learning_rate (Float)\n",
            "{'default': 0.0001, 'conditions': [], 'min_value': 0.0001, 'max_value': 0.1, 'step': None, 'sampling': None}\n",
            "num_hidden_layers (Choice)\n",
            "{'default': 1, 'conditions': [], 'values': [1, 2, 3], 'ordered': True}\n"
          ],
          "name": "stdout"
        }
      ]
    },
    {
      "cell_type": "code",
      "metadata": {
        "colab": {
          "base_uri": "https://localhost:8080/"
        },
        "id": "bzBqnWQ-5ejw",
        "outputId": "249023a3-4e56-40c3-9bf3-f6eca444c1f0"
      },
      "source": [
        "tuner.search(\n",
        "    x_train, y_train,\n",
        "    validation_data=(x_test, y_test),\n",
        "    epochs=5, verbose=False,\n",
        "    callbacks=[\n",
        "        tf.keras.callbacks.EarlyStopping(monitor='val_accuracy', patience=2)\n",
        "    ]\n",
        ")"
      ],
      "execution_count": null,
      "outputs": [
        {
          "output_type": "stream",
          "text": [
            "INFO:tensorflow:Oracle triggered exit\n"
          ],
          "name": "stdout"
        }
      ]
    },
    {
      "cell_type": "code",
      "metadata": {
        "colab": {
          "base_uri": "https://localhost:8080/"
        },
        "id": "NFh-EZ6JBKfJ",
        "outputId": "475cd9e2-1944-4928-e8a5-c9f89f7afd69"
      },
      "source": [
        "tuner.results_summary(1)"
      ],
      "execution_count": null,
      "outputs": [
        {
          "output_type": "stream",
          "text": [
            "Results summary\n",
            "Results in logs/fashion_mnist\n",
            "Showing 1 best trials\n",
            "Objective(name='val_accuracy', direction='max')\n",
            "Trial summary\n",
            "Hyperparameters:\n",
            "dropout_rate: 0.2892276426454229\n",
            "num_units: 32\n",
            "learning_rate: 0.0001\n",
            "num_hidden_layers: 1\n",
            "batch_size: 32\n",
            "Score: 0.8374999761581421\n"
          ],
          "name": "stdout"
        }
      ]
    },
    {
      "cell_type": "code",
      "metadata": {
        "colab": {
          "base_uri": "https://localhost:8080/"
        },
        "id": "uKMGNlTvBKfJ",
        "outputId": "db8fd04c-28a2-4b88-97e9-c514989124c8"
      },
      "source": [
        "model = tuner.get_best_models(num_models=1)[0]\n",
        "\n",
        "model.summary()"
      ],
      "execution_count": null,
      "outputs": [
        {
          "output_type": "stream",
          "text": [
            "Model: \"sequential\"\n",
            "_________________________________________________________________\n",
            "Layer (type)                 Output Shape              Param #   \n",
            "=================================================================\n",
            "flatten (Flatten)            (None, 784)               0         \n",
            "_________________________________________________________________\n",
            "lambda (Lambda)              (None, 784)               0         \n",
            "_________________________________________________________________\n",
            "dense (Dense)                (None, 32)                25120     \n",
            "_________________________________________________________________\n",
            "dropout (Dropout)            (None, 32)                0         \n",
            "_________________________________________________________________\n",
            "dense_1 (Dense)              (None, 10)                330       \n",
            "=================================================================\n",
            "Total params: 25,450\n",
            "Trainable params: 25,450\n",
            "Non-trainable params: 0\n",
            "_________________________________________________________________\n"
          ],
          "name": "stdout"
        }
      ]
    },
    {
      "cell_type": "markdown",
      "metadata": {
        "id": "6WGh5waVBW1L"
      },
      "source": [
        "# **MODEL FIT**"
      ]
    },
    {
      "cell_type": "code",
      "metadata": {
        "colab": {
          "base_uri": "https://localhost:8080/"
        },
        "id": "DAF3RPY3BKfJ",
        "outputId": "cac0a6fd-8dce-4e34-fec7-9efbe2332808"
      },
      "source": [
        "h = model.fit(\n",
        "    x_train, y_train,\n",
        "    validation_data=(x_test, y_test),\n",
        "    epochs=100, verbose=2,\n",
        "    batch_size=128,\n",
        "    callbacks=[\n",
        "        tf.keras.callbacks.EarlyStopping(monitor='val_accuracy', patience=3)\n",
        "    ]\n",
        ")"
      ],
      "execution_count": null,
      "outputs": [
        {
          "output_type": "stream",
          "text": [
            "Epoch 1/100\n",
            "469/469 - 1s - loss: 0.4345 - accuracy: 0.8492 - val_loss: 0.4084 - val_accuracy: 0.8560\n",
            "Epoch 2/100\n",
            "469/469 - 1s - loss: 0.4307 - accuracy: 0.8500 - val_loss: 0.4095 - val_accuracy: 0.8563\n",
            "Epoch 3/100\n",
            "469/469 - 1s - loss: 0.4301 - accuracy: 0.8514 - val_loss: 0.4058 - val_accuracy: 0.8565\n",
            "Epoch 4/100\n",
            "469/469 - 1s - loss: 0.4255 - accuracy: 0.8531 - val_loss: 0.4048 - val_accuracy: 0.8572\n",
            "Epoch 5/100\n",
            "469/469 - 1s - loss: 0.4254 - accuracy: 0.8521 - val_loss: 0.4030 - val_accuracy: 0.8573\n",
            "Epoch 6/100\n",
            "469/469 - 1s - loss: 0.4238 - accuracy: 0.8533 - val_loss: 0.4034 - val_accuracy: 0.8574\n",
            "Epoch 7/100\n",
            "469/469 - 1s - loss: 0.4234 - accuracy: 0.8519 - val_loss: 0.4011 - val_accuracy: 0.8586\n",
            "Epoch 8/100\n",
            "469/469 - 1s - loss: 0.4198 - accuracy: 0.8540 - val_loss: 0.3997 - val_accuracy: 0.8599\n",
            "Epoch 9/100\n",
            "469/469 - 1s - loss: 0.4187 - accuracy: 0.8543 - val_loss: 0.3993 - val_accuracy: 0.8590\n",
            "Epoch 10/100\n",
            "469/469 - 1s - loss: 0.4157 - accuracy: 0.8552 - val_loss: 0.3983 - val_accuracy: 0.8579\n",
            "Epoch 11/100\n",
            "469/469 - 1s - loss: 0.4156 - accuracy: 0.8557 - val_loss: 0.3969 - val_accuracy: 0.8609\n",
            "Epoch 12/100\n",
            "469/469 - 1s - loss: 0.4141 - accuracy: 0.8560 - val_loss: 0.3965 - val_accuracy: 0.8592\n",
            "Epoch 13/100\n",
            "469/469 - 1s - loss: 0.4107 - accuracy: 0.8565 - val_loss: 0.3946 - val_accuracy: 0.8614\n",
            "Epoch 14/100\n",
            "469/469 - 1s - loss: 0.4097 - accuracy: 0.8566 - val_loss: 0.3950 - val_accuracy: 0.8604\n",
            "Epoch 15/100\n",
            "469/469 - 1s - loss: 0.4069 - accuracy: 0.8587 - val_loss: 0.3922 - val_accuracy: 0.8618\n",
            "Epoch 16/100\n",
            "469/469 - 1s - loss: 0.4056 - accuracy: 0.8584 - val_loss: 0.3923 - val_accuracy: 0.8616\n",
            "Epoch 17/100\n",
            "469/469 - 1s - loss: 0.4083 - accuracy: 0.8576 - val_loss: 0.3924 - val_accuracy: 0.8607\n",
            "Epoch 18/100\n",
            "469/469 - 1s - loss: 0.4063 - accuracy: 0.8583 - val_loss: 0.3904 - val_accuracy: 0.8618\n"
          ],
          "name": "stdout"
        }
      ]
    },
    {
      "cell_type": "markdown",
      "metadata": {
        "id": "38D9pK2gBkIk"
      },
      "source": [
        "# **MODEL EVALUATE**"
      ]
    },
    {
      "cell_type": "code",
      "metadata": {
        "id": "F85j9YSxBKfK",
        "colab": {
          "base_uri": "https://localhost:8080/"
        },
        "outputId": "a3ec339f-fce5-42cc-9793-19551852efe1"
      },
      "source": [
        "model.evaluate(x_test, y_test)"
      ],
      "execution_count": null,
      "outputs": [
        {
          "output_type": "stream",
          "text": [
            "313/313 [==============================] - 0s 1ms/step - loss: 0.3904 - accuracy: 0.8618\n"
          ],
          "name": "stdout"
        },
        {
          "output_type": "execute_result",
          "data": {
            "text/plain": [
              "[0.39040687680244446, 0.8618000149726868]"
            ]
          },
          "metadata": {
            "tags": []
          },
          "execution_count": 19
        }
      ]
    }
  ]
}